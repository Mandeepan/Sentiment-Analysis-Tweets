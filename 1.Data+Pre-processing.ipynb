{
 "cells": [
  {
   "cell_type": "code",
   "execution_count": 1,
   "metadata": {
    "collapsed": true
   },
   "outputs": [],
   "source": [
    "import pandas as pd\n",
    "import datetime\n",
    "from nltk.corpus import stopwords\n",
    "from nltk.tokenize import word_tokenize\n",
    "import re\n",
    "from nltk import ngrams"
   ]
  },
  {
   "cell_type": "code",
   "execution_count": 2,
   "metadata": {
    "collapsed": true
   },
   "outputs": [],
   "source": [
    "#input gold price dataset and convert it into time series data\n",
    "rawPriceData=pd.read_csv('/Users/Mandy/Study/SpringBoard/Capstone 2/GoldPriceData-Raw.csv')\n",
    "rawPriceData['Date'] = pd.to_datetime(rawPriceData['Date'])\n",
    "rawPriceData.set_index(rawPriceData['Date'],inplace=True)"
   ]
  },
  {
   "cell_type": "code",
   "execution_count": 3,
   "metadata": {
    "collapsed": true
   },
   "outputs": [],
   "source": [
    "# filling weekend/public holiday missing data by taking average.\n",
    "priceData=rawPriceData.resample('D').interpolate()\n",
    "priceData=priceData['Price']"
   ]
  },
  {
   "cell_type": "code",
   "execution_count": 4,
   "metadata": {},
   "outputs": [
    {
     "name": "stdout",
     "output_type": "stream",
     "text": [
      "                                               Tweet\n",
      "0  Richard Branson: Trump's steel tariffs are 'co...\n",
      "1  âIn this economy â https:// twitter.com/lo...\n",
      "2  White supremacy is building economic and polit...\n",
      "3  People are still having boyfriends/girlfriends...\n",
      "4  . @USCIS @DHSgov #DontRevokeH4EAD today I went...\n"
     ]
    }
   ],
   "source": [
    "#input tweet dataset\n",
    "rawTweetData=pd.read_csv('/Users/Mandy/Study/SpringBoard/Capstone 2/TweetData-Raw.csv',encoding='latin1')\n",
    "print(rawTweetData.head())"
   ]
  },
  {
   "cell_type": "code",
   "execution_count": 5,
   "metadata": {},
   "outputs": [
    {
     "name": "stdout",
     "output_type": "stream",
     "text": [
      "Richard Branson Trump s steel tariffs are counterproductive for US economy URL USER PICTURE\n",
      " In this economy URL status 980221288374525952 \n",
      "White supremacy is building economic and political systems to ensure white dominance and then claiming those differential outcomes as evidence of your genetic superiority\n",
      "People are still having boyfriends girlfriends in this economy \n",
      " USER USER HASHTAG today I went out\n"
     ]
    }
   ],
   "source": [
    "#replace special characters, such as URLs, usernames, hashtags, pictures with\"URL\",\"USER\",\"HASHTAG\",\"PICTURE\"\n",
    "#also remove all the special characters\n",
    "for row in rawTweetData.index:\n",
    "    eachTweet=rawTweetData.Tweet[row]\n",
    "    eachTweet_url=re.sub(r\"https:// \\S+\",\"URL\",eachTweet)\n",
    "    eachTweet_pic=re.sub(r\"pic.\\S+\",\"PICTURE\",eachTweet_url)\n",
    "    eachTweet_user=re.sub(r\"@\\S+\",\"USER\",eachTweet_pic)\n",
    "    eachTweet_hashtag=re.sub(r\"#\\S+\",\"HASHTAG\",eachTweet_user)\n",
    "    eachTweet_spechar=re.sub(\"[^A-Za-z0-9]+\",\" \",eachTweet_hashtag)\n",
    "    rawTweetData.set_value(row,'Tweet',eachTweet_spechar)\n",
    "print(rawTweetData.Tweet[0])\n",
    "print(rawTweetData.Tweet[1])\n",
    "print(rawTweetData.Tweet[2])\n",
    "print(rawTweetData.Tweet[3])\n",
    "print(rawTweetData.Tweet[4])"
   ]
  },
  {
   "cell_type": "code",
   "execution_count": 6,
   "metadata": {},
   "outputs": [
    {
     "name": "stdout",
     "output_type": "stream",
     "text": [
      "0    [Richard, Branson, Trump, s, steel, tariffs, a...\n",
      "1    [In, this, economy, URL, status, 9802212883745...\n",
      "2    [White, supremacy, is, building, economic, and...\n",
      "3    [People, are, still, having, boyfriends, girlf...\n",
      "4           [USER, USER, HASHTAG, today, I, went, out]\n",
      "dtype: object\n"
     ]
    }
   ],
   "source": [
    "#Split tweet text word by word (tokenize)\n",
    "tokenizedTweet = rawTweetData.apply(lambda row: word_tokenize(row['Tweet']), axis=1)\n",
    "print(tokenizedTweet.head())"
   ]
  },
  {
   "cell_type": "code",
   "execution_count": 9,
   "metadata": {},
   "outputs": [
    {
     "name": "stdout",
     "output_type": "stream",
     "text": [
      "0    [Richard, Branson, Trump, steel, tariffs, coun...\n",
      "1       [In, economy, URL, status, 980221288374525952]\n",
      "2    [White, supremacy, building, economic, politic...\n",
      "3    [People, still, boyfriends, girlfriends, economy]\n",
      "4                [USER, USER, HASHTAG, today, I, went]\n",
      "dtype: object\n"
     ]
    }
   ],
   "source": [
    "#remove stopwords( words that don't have any positive/negative meanings)\n",
    "filteredTweet = tokenizedTweet.apply(lambda x: [word for word in x if word not in stopwords.words('english')])\n",
    "print(filteredTweet.head())"
   ]
  },
  {
   "cell_type": "code",
   "execution_count": 17,
   "metadata": {},
   "outputs": [
    {
     "name": "stdout",
     "output_type": "stream",
     "text": [
      "['Richard', 'Branson', 'Trump', 'steel', 'tariffs', 'counterproductive', 'US', 'economy', 'URL', 'USER', 'PICTURE']\n",
      "('Richard', 'Branson', 'Trump')\n",
      "('Branson', 'Trump', 'steel')\n",
      "('Trump', 'steel', 'tariffs')\n",
      "('steel', 'tariffs', 'counterproductive')\n",
      "('tariffs', 'counterproductive', 'US')\n",
      "('counterproductive', 'US', 'economy')\n",
      "('US', 'economy', 'URL')\n",
      "('economy', 'URL', 'USER')\n",
      "('URL', 'USER', 'PICTURE')\n"
     ]
    }
   ],
   "source": [
    "testing=filteredTweet[0]\n",
    "print(testing)\n",
    "trigrams=ngrams(testing,3)\n",
    "for g in trigrams:\n",
    "    print(g)"
   ]
  },
  {
   "cell_type": "code",
   "execution_count": null,
   "metadata": {
    "collapsed": true
   },
   "outputs": [],
   "source": []
  },
  {
   "cell_type": "code",
   "execution_count": null,
   "metadata": {
    "collapsed": true
   },
   "outputs": [],
   "source": []
  }
 ],
 "metadata": {
  "kernelspec": {
   "display_name": "Python 3",
   "language": "python",
   "name": "python3"
  },
  "language_info": {
   "codemirror_mode": {
    "name": "ipython",
    "version": 3
   },
   "file_extension": ".py",
   "mimetype": "text/x-python",
   "name": "python",
   "nbconvert_exporter": "python",
   "pygments_lexer": "ipython3",
   "version": "3.6.3"
  }
 },
 "nbformat": 4,
 "nbformat_minor": 2
}
