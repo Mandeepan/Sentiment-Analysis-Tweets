{
 "cells": [
  {
   "cell_type": "code",
   "execution_count": 1,
   "metadata": {
    "collapsed": true
   },
   "outputs": [],
   "source": [
    "import pandas as pd\n",
    "import numpy as np\n",
    "import datetime\n",
    "from nltk.corpus import stopwords\n",
    "from nltk.tokenize import word_tokenize\n",
    "import re\n",
    "from nltk import ngrams\n",
    "from nltk.probability import FreqDist\n",
    "from langdetect import detect\n",
    "import matplotlib.pyplot as plt; plt.rcdefaults()\n",
    "from gensim.models import word2vec\n",
    "from sklearn.ensemble import RandomForestClassifier\n"
   ]
  },
  {
   "cell_type": "code",
   "execution_count": 2,
   "metadata": {
    "collapsed": true
   },
   "outputs": [],
   "source": [
    "#jupyter notebook setting: to show the full texts in the output window\n",
    "pd.set_option('display.max_colwidth', -1)"
   ]
  },
  {
   "cell_type": "code",
   "execution_count": 5,
   "metadata": {},
   "outputs": [
    {
     "name": "stdout",
     "output_type": "stream",
     "text": [
      "       date  score  language  \\\n",
      "0  12/31/17 -1     NaN         \n",
      "1  12/31/17  0     NaN         \n",
      "2  12/31/17  1     NaN         \n",
      "3  12/31/17  0     NaN         \n",
      "4  12/31/17  0     NaN         \n",
      "\n",
      "                                                                                                                                                       text  \n",
      "0  Steve Harrigan reports on @POTUS ' #NewYearsEve - from the U.S. economy to tonight's party at Mar-a-Lago. #FoxNews2018 pic.twitter.com/wb75BhZ37F         \n",
      "1  Iran's protests are partly a reaction to a sputtering economy . But there's something bigger at play. http:// cnn.it/2En0qtL pic.twitter.com/lIKazEzNRf   \n",
      "2  Just a reminder Britney Spears singlehandedly saved the economy by releasing Work Bitch.                                                                  \n",
      "3  No                                                                                                                                                        \n",
      "4  Wondering what's going on with Ecuador's economy ? Wonder How Bitcoin can help? Read our informative article on our blog here: http:// ow.ly/53lb30hvQuu  \n"
     ]
    }
   ],
   "source": [
    "#input file:  tweet dataset\n",
    "rawTweetData=pd.read_csv('/Users/Mandy/Study/SpringBoard/Capstone 2/GoldTweetDataWorkBook.csv',encoding='latin1')\n",
    "print(rawTweetData.head())\n"
   ]
  },
  {
   "cell_type": "code",
   "execution_count": 6,
   "metadata": {
    "collapsed": true
   },
   "outputs": [],
   "source": [
    "#function to detect non-English tweets and delete those rows\n",
    "def findLanguage(row):\n",
    "    try:\n",
    "        return detect(row)\n",
    "    except:\n",
    "        return \"empty\""
   ]
  },
  {
   "cell_type": "code",
   "execution_count": 7,
   "metadata": {},
   "outputs": [
    {
     "name": "stdout",
     "output_type": "stream",
     "text": [
      "       date  score language  \\\n",
      "0  12/31/17 -1      en        \n",
      "1  12/31/17  0      en        \n",
      "2  12/31/17  1      en        \n",
      "4  12/31/17  0      en        \n",
      "5  12/31/17 -1      en        \n",
      "\n",
      "                                                                                                                                                                                                                                                             text  \n",
      "0  Steve Harrigan reports on @POTUS ' #NewYearsEve - from the U.S. economy to tonight's party at Mar-a-Lago. #FoxNews2018 pic.twitter.com/wb75BhZ37F                                                                                                               \n",
      "1  Iran's protests are partly a reaction to a sputtering economy . But there's something bigger at play. http:// cnn.it/2En0qtL pic.twitter.com/lIKazEzNRf                                                                                                         \n",
      "2  Just a reminder Britney Spears singlehandedly saved the economy by releasing Work Bitch.                                                                                                                                                                        \n",
      "4  Wondering what's going on with Ecuador's economy ? Wonder How Bitcoin can help? Read our informative article on our blog here: http:// ow.ly/53lb30hvQuu                                                                                                        \n",
      "5  But we still have to wait & see.In the streets however there were at least three different camps out in recent days: - Against govâs economy /corruption - Green camp (2009 election protest nostalgia) - Pro-regime change/monarchy camp (face of the riots  \n"
     ]
    }
   ],
   "source": [
    "#preprocessing 1/4 : delete non-English rows\n",
    "rawTweetData.language = rawTweetData.text.apply(findLanguage)\n",
    "rawTweetData=rawTweetData[rawTweetData.language=='en']\n",
    "rawTweetData=rawTweetData.loc[:,['date','score','language','text']]\n",
    "print(rawTweetData.head())"
   ]
  },
  {
   "cell_type": "code",
   "execution_count": 8,
   "metadata": {},
   "outputs": [
    {
     "name": "stdout",
     "output_type": "stream",
     "text": [
      "       date  score language  \\\n",
      "0  12/31/17 -1      en        \n",
      "1  12/31/17  0      en        \n",
      "2  12/31/17  1      en        \n",
      "4  12/31/17  0      en        \n",
      "5  12/31/17 -1      en        \n",
      "\n",
      "                                                                                                                                                                                                                                                             text  \\\n",
      "0  Steve Harrigan reports on @POTUS ' #NewYearsEve - from the U.S. economy to tonight's party at Mar-a-Lago. #FoxNews2018 pic.twitter.com/wb75BhZ37F                                                                                                                \n",
      "1  Iran's protests are partly a reaction to a sputtering economy . But there's something bigger at play. http:// cnn.it/2En0qtL pic.twitter.com/lIKazEzNRf                                                                                                          \n",
      "2  Just a reminder Britney Spears singlehandedly saved the economy by releasing Work Bitch.                                                                                                                                                                         \n",
      "4  Wondering what's going on with Ecuador's economy ? Wonder How Bitcoin can help? Read our informative article on our blog here: http:// ow.ly/53lb30hvQuu                                                                                                         \n",
      "5  But we still have to wait & see.In the streets however there were at least three different camps out in recent days: - Against govâs economy /corruption - Green camp (2009 election protest nostalgia) - Pro-regime change/monarchy camp (face of the riots   \n",
      "\n",
      "                                                                                                                                                                                                                                             Tweet  \n",
      "0  steve harrigan reports on user hashtag from the u s economy to tonight s party at mar a lago hashtag picture                                                                                                                                     \n",
      "1  iran s protests are partly a reaction to a sputtering economy but there s something bigger at play http cnn it 2en0qtl picture                                                                                                                   \n",
      "2  just a reminder britney spears singlehandedly saved the economy by releasing work bitch                                                                                                                                                          \n",
      "4  wondering what s going on with ecuador s economy wonder how bitcoin can help read our informative article on our blog here http ow ly 53lb30hvquu                                                                                                \n",
      "5  but we still have to wait see in the streets however there were at least three different camps out in recent days against gov s economy corruption green camp 2009 election protest nostalgia pro regime change monarchy camp face of the riots  \n"
     ]
    }
   ],
   "source": [
    "#preprocessing 2/4: replace special characters, such as URLs, usernames, hashtags, pictures\n",
    "#also remove all the special characters\n",
    "for row in rawTweetData.index:\n",
    "    eachTweet=rawTweetData.text[row]\n",
    "    eachTweet_url=re.sub(r\"https:// \\S+\",\"URL\",eachTweet)\n",
    "    eachTweet_pic=re.sub(r\"pic.\\S+\",\"PICTURE\",eachTweet_url)\n",
    "    eachTweet_user=re.sub(r\"@\\S+\",\"USER\",eachTweet_pic)\n",
    "    eachTweet_hashtag=re.sub(r\"#\\S+\",\"HASHTAG\",eachTweet_user)\n",
    "    eachTweet_spechar=re.sub(\"[^A-Za-z0-9]+\",\" \",eachTweet_hashtag).lower()\n",
    "    rawTweetData.set_value(row,'Tweet',eachTweet_spechar)\n",
    "print(rawTweetData.head())"
   ]
  },
  {
   "cell_type": "code",
   "execution_count": 9,
   "metadata": {},
   "outputs": [
    {
     "name": "stdout",
     "output_type": "stream",
     "text": [
      "0    [steve, harrigan, reports, on, user, hashtag, from, the, u, s, economy, to, tonight, s, party, at, mar, a, lago, hashtag, picture]                                                                                                                                                        \n",
      "1    [iran, s, protests, are, partly, a, reaction, to, a, sputtering, economy, but, there, s, something, bigger, at, play, http, cnn, it, 2en0qtl, picture]                                                                                                                                    \n",
      "2    [just, a, reminder, britney, spears, singlehandedly, saved, the, economy, by, releasing, work, bitch]                                                                                                                                                                                     \n",
      "4    [wondering, what, s, going, on, with, ecuador, s, economy, wonder, how, bitcoin, can, help, read, our, informative, article, on, our, blog, here, http, ow, ly, 53lb30hvquu]                                                                                                              \n",
      "5    [but, we, still, have, to, wait, see, in, the, streets, however, there, were, at, least, three, different, camps, out, in, recent, days, against, gov, s, economy, corruption, green, camp, 2009, election, protest, nostalgia, pro, regime, change, monarchy, camp, face, of, the, riots]\n",
      "dtype: object\n"
     ]
    }
   ],
   "source": [
    "#preprocessing 3/4: Split tweet text word by word (tokenize)\n",
    "tokenizedTweet = rawTweetData.apply(lambda row: word_tokenize(row['Tweet']), axis=1)\n",
    "print(tokenizedTweet.head())"
   ]
  },
  {
   "cell_type": "code",
   "execution_count": 10,
   "metadata": {},
   "outputs": [
    {
     "name": "stdout",
     "output_type": "stream",
     "text": [
      "0    [steve, harrigan, reports, user, hashtag, u, economy, tonight, party, mar, lago, hashtag, picture]                                                                                                             \n",
      "1    [iran, protests, partly, reaction, sputtering, economy, something, bigger, play, http, cnn, 2en0qtl, picture]                                                                                                  \n",
      "2    [reminder, britney, spears, singlehandedly, saved, economy, releasing, work, bitch]                                                                                                                            \n",
      "4    [wondering, going, ecuador, economy, wonder, bitcoin, help, read, informative, article, blog, http, ow, ly, 53lb30hvquu]                                                                                       \n",
      "5    [still, wait, see, streets, however, least, three, different, camps, recent, days, gov, economy, corruption, green, camp, 2009, election, protest, nostalgia, pro, regime, change, monarchy, camp, face, riots]\n",
      "dtype: object\n"
     ]
    }
   ],
   "source": [
    "#preprocessing 4/4: remove stopwords( words that don't have any positive/negative meanings)\n",
    "filteredTweet = tokenizedTweet.apply(lambda x: [word for word in x if word not in stopwords.words('english')])\n",
    "print(filteredTweet.head())"
   ]
  },
  {
   "cell_type": "code",
   "execution_count": 11,
   "metadata": {},
   "outputs": [
    {
     "name": "stdout",
     "output_type": "stream",
     "text": [
      "       date  score  \\\n",
      "0  12/31/17 -1       \n",
      "1  12/31/17  0       \n",
      "2  12/31/17  1       \n",
      "4  12/31/17  0       \n",
      "5  12/31/17 -1       \n",
      "\n",
      "                                                                                                                                                                                                             tweet  \n",
      "0  [steve, harrigan, reports, user, hashtag, u, economy, tonight, party, mar, lago, hashtag, picture]                                                                                                               \n",
      "1  [iran, protests, partly, reaction, sputtering, economy, something, bigger, play, http, cnn, 2en0qtl, picture]                                                                                                    \n",
      "2  [reminder, britney, spears, singlehandedly, saved, economy, releasing, work, bitch]                                                                                                                              \n",
      "4  [wondering, going, ecuador, economy, wonder, bitcoin, help, read, informative, article, blog, http, ow, ly, 53lb30hvquu]                                                                                         \n",
      "5  [still, wait, see, streets, however, least, three, different, camps, recent, days, gov, economy, corruption, green, camp, 2009, election, protest, nostalgia, pro, regime, change, monarchy, camp, face, riots]  \n"
     ]
    }
   ],
   "source": [
    "#Tweet data after all the pre-processing steps\n",
    "tweetData=rawTweetData.loc[:,['date','score']]\n",
    "tweetData=pd.concat([tweetData, filteredTweet], axis=1)\n",
    "tweetData.columns=['date','score','tweet']\n",
    "print(tweetData.head())"
   ]
  },
  {
   "cell_type": "code",
   "execution_count": 12,
   "metadata": {
    "collapsed": true
   },
   "outputs": [],
   "source": [
    "#function to combine every words from all the tweets into a word library\n",
    "def get_words_in_tweets(tweets):\n",
    "    all_words = []\n",
    "    for words in tweets:\n",
    "        all_words.extend(words)\n",
    "    return all_words\n",
    "\n",
    "#call the function\n",
    "word_list=get_words_in_tweets(filteredTweet)"
   ]
  },
  {
   "cell_type": "code",
   "execution_count": 13,
   "metadata": {},
   "outputs": [
    {
     "name": "stdout",
     "output_type": "stream",
     "text": [
      "    target_word  frequency\n",
      "6    economy     10418    \n",
      "4    hashtag     8418     \n",
      "3    user        5522     \n",
      "195  economic    5107     \n",
      "11   picture     3130     \n"
     ]
    }
   ],
   "source": [
    "# a distribution table of words and their corresponding frequencies\n",
    "word_features=FreqDist(word for word in word_list)\n",
    "word_freq=[word_features[w] for w in word_features]\n",
    "target_word=list(word_features.keys())\n",
    "word_freq=pd.DataFrame(word_freq)\n",
    "target_word=pd.DataFrame(target_word)\n",
    "word_freq_dist=pd.concat([target_word,word_freq],axis=1)\n",
    "word_freq_dist.columns=['target_word','frequency']\n",
    "word_freq_dist=word_freq_dist.sort_values('frequency',ascending=False)\n",
    "print(word_freq_dist.head())"
   ]
  },
  {
   "cell_type": "code",
   "execution_count": 14,
   "metadata": {},
   "outputs": [
    {
     "name": "stdout",
     "output_type": "stream",
     "text": [
      "    target_word  frequency\n",
      "6    economy     10418    \n",
      "195  economic    5107     \n",
      "83   trump       2545     \n",
      "126  us          1353     \n",
      "300  people      1152     \n"
     ]
    }
   ],
   "source": [
    "#delete rows with the replacement words: URL, PICTURE, USER, HASHTAG\n",
    "word_freq_dist = word_freq_dist[word_freq_dist.target_word != 'url']\n",
    "word_freq_dist = word_freq_dist[word_freq_dist.target_word != 'http']\n",
    "word_freq_dist = word_freq_dist[word_freq_dist.target_word != 'picture']\n",
    "word_freq_dist = word_freq_dist[word_freq_dist.target_word != 'user']\n",
    "word_freq_dist = word_freq_dist[word_freq_dist.target_word != 'hashtag']\n",
    "print(word_freq_dist.head())"
   ]
  },
  {
   "cell_type": "code",
   "execution_count": 15,
   "metadata": {},
   "outputs": [
    {
     "data": {
      "image/png": "[encoded data removed]",
      "text/plain": [
       "<matplotlib.figure.Figure at 0x1181dda90>"
      ]
     },
     "metadata": {},
     "output_type": "display_data"
    }
   ],
   "source": [
    "# draw a bar chart to show the frequency of the 100 most common words\n",
    "x_word = word_freq_dist.iloc[0:50,0]\n",
    "y_pos = np.arange(len(x_word))\n",
    "y_freq = word_freq_dist.iloc[0:50,1]\n",
    "\n",
    "plt.bar(y_pos, y_freq, align='center', alpha=0.5)\n",
    "plt.xticks(y_pos, x_word)\n",
    "plt.ylabel('Frequency')\n",
    "plt.title('100 Words Occurred Most Frequently')\n",
    "plt.xticks(rotation=90)\n",
    " \n",
    "plt.show()"
   ]
  },
  {
   "cell_type": "code",
   "execution_count": 16,
   "metadata": {
    "collapsed": true
   },
   "outputs": [],
   "source": [
    "#split Tweet data into trainning set and text set \n",
    "#total tweet data is 20478, 60% will be used to train the model.\n",
    "train_sentiment=tweetData.iloc[0:12285,:]\n",
    "test_sentiment=tweetData.iloc[12285:,:]"
   ]
  },
  {
   "cell_type": "code",
   "execution_count": 17,
   "metadata": {
    "collapsed": true
   },
   "outputs": [],
   "source": [
    "# Creating the model and setting values for the various parameters\n",
    "num_features = 300  # Word vector dimensionality\n",
    "min_word_count = 40 # Minimum word count\n",
    "num_workers = 5     # Number of parallel threads\n",
    "context = 10       # Context window size\n",
    "downsampling = 1e-3 # (0.001) Downsample setting for frequent words\n",
    "\n",
    "# Initializing the train model\n",
    "model = word2vec.Word2Vec(train_sentiment.tweet,\\\n",
    "                          workers=num_workers,\\\n",
    "                          size=num_features,\\\n",
    "                          min_count=min_word_count,\\\n",
    "                          window=context,\n",
    "                          sample=downsampling)\n",
    "\n",
    "# To make the model memory efficient\n",
    "model.init_sims(replace=True)\n",
    "\n",
    "# Saving the model for later use. Can be loaded using Word2Vec.load()\n",
    "model_name = \"300features_40minwords_10context\"\n",
    "model.save(model_name)"
   ]
  },
  {
   "cell_type": "code",
   "execution_count": 18,
   "metadata": {},
   "outputs": [
    {
     "name": "stderr",
     "output_type": "stream",
     "text": [
      "/Users/Mandy/anaconda3/lib/python3.6/site-packages/ipykernel_launcher.py:2: DeprecationWarning: Call to deprecated `syn0` (Attribute will be removed in 4.0.0, use self.wv.vectors instead).\n",
      "  \n"
     ]
    },
    {
     "data": {
      "text/plain": [
       "(723, 300)"
      ]
     },
     "execution_count": 18,
     "metadata": {},
     "output_type": "execute_result"
    }
   ],
   "source": [
    "# This will give the total number of words in the vocabolary created from this dataset\n",
    "model.wv.syn0.shape"
   ]
  },
  {
   "cell_type": "code",
   "execution_count": 19,
   "metadata": {},
   "outputs": [
    {
     "data": {
      "text/plain": [
       "[('project', 0.9906215667724609),\n",
       " ('public', 0.9858954548835754),\n",
       " ('technology', 0.9847781658172607),\n",
       " ('energy', 0.9846606850624084),\n",
       " ('latest', 0.9843843579292297),\n",
       " ('leaders', 0.9843530654907227),\n",
       " ('minister', 0.9841612577438354),\n",
       " ('canada', 0.9840447306632996),\n",
       " ('industry', 0.9840257167816162),\n",
       " ('environment', 0.9838099479675293)]"
      ]
     },
     "execution_count": 19,
     "metadata": {},
     "output_type": "execute_result"
    }
   ],
   "source": [
    "# This will print the most similar words present in the model\n",
    "model.wv.most_similar(\"economic\")"
   ]
  },
  {
   "cell_type": "code",
   "execution_count": 20,
   "metadata": {
    "collapsed": true
   },
   "outputs": [],
   "source": [
    "# Function to average all word vectors in a paragraph\n",
    "def featureVecMethod(words, model, num_features):\n",
    "    # Pre-initialising empty numpy array for speed\n",
    "    featureVec = np.zeros(num_features,dtype=\"float32\")\n",
    "    nwords = 0\n",
    "    \n",
    "    #Converting Index2Word which is a list to a set for better speed in the execution.\n",
    "    index2word_set = set(model.wv.index2word)\n",
    "    \n",
    "    for word in  words:\n",
    "        if word in index2word_set:\n",
    "            nwords = nwords + 1\n",
    "            featureVec = np.add(featureVec,model[word])\n",
    "    \n",
    "    # Dividing the result by number of words to get average\n",
    "    featureVec = np.divide(featureVec, nwords)\n",
    "    return featureVec"
   ]
  },
  {
   "cell_type": "code",
   "execution_count": 21,
   "metadata": {},
   "outputs": [
    {
     "name": "stdout",
     "output_type": "stream",
     "text": [
      "[-0.14992502  0.07154259 -0.02665841 -0.04385803 -0.01252624  0.00918776\n",
      "  0.02122934  0.06098749  0.05642305 -0.03469912 -0.01130071 -0.05296703\n",
      " -0.00352693  0.08718577 -0.06910163 -0.0570459   0.02401728  0.04109377\n",
      " -0.05519208  0.04414865 -0.1528634  -0.01926175 -0.0470896  -0.0701536\n",
      " -0.01326755  0.02622039 -0.04902607  0.04260651 -0.06182535 -0.04156384\n",
      " -0.0070907   0.07592495 -0.03131347 -0.06058025  0.06168734  0.03665787\n",
      " -0.05411942 -0.04035277 -0.02529794  0.06937677  0.01757798 -0.01791217\n",
      " -0.06477512  0.08571683 -0.06125176  0.03282664 -0.02200449 -0.07518894\n",
      "  0.00055106  0.04559939]\n",
      "3\n"
     ]
    },
    {
     "name": "stderr",
     "output_type": "stream",
     "text": [
      "/Users/Mandy/anaconda3/lib/python3.6/site-packages/ipykernel_launcher.py:13: DeprecationWarning: Call to deprecated `__getitem__` (Method will be removed in 4.0.0, use self.wv.__getitem__() instead).\n",
      "  del sys.path[0]\n"
     ]
    }
   ],
   "source": [
    "#Vectorize the training set\n",
    "train_FeatureVecs = np.zeros((len(train_sentiment),num_features),dtype=\"float32\")\n",
    "counter=0\n",
    "for tweet in train_sentiment:\n",
    "    train_FeatureVecs[counter,:] = featureVecMethod(tweet, model, num_features)\n",
    "    counter=counter+1\n",
    "#testing: print out the first 50 features of the first training tweet\n",
    "print(train_FeatureVecs[0,0:50])\n",
    "print(counter)"
   ]
  },
  {
   "cell_type": "code",
   "execution_count": 22,
   "metadata": {},
   "outputs": [
    {
     "name": "stdout",
     "output_type": "stream",
     "text": [
      "[0. 0. 0. 0. 0. 0. 0. 0. 0. 0. 0. 0. 0. 0. 0. 0. 0. 0. 0. 0. 0. 0. 0. 0.\n",
      " 0. 0. 0. 0. 0. 0. 0. 0. 0. 0. 0. 0. 0. 0. 0. 0. 0. 0. 0. 0. 0. 0. 0. 0.\n",
      " 0. 0.]\n",
      "3\n"
     ]
    },
    {
     "name": "stderr",
     "output_type": "stream",
     "text": [
      "/Users/Mandy/anaconda3/lib/python3.6/site-packages/ipykernel_launcher.py:13: DeprecationWarning: Call to deprecated `__getitem__` (Method will be removed in 4.0.0, use self.wv.__getitem__() instead).\n",
      "  del sys.path[0]\n"
     ]
    }
   ],
   "source": [
    "#Vectorize the test set\n",
    "test_FeatureVecs=np.zeros((len(test_sentiment),num_features),dtype=\"float32\")\n",
    "counter_test=0\n",
    "for each_test_tweet in test_sentiment:\n",
    "    test_FeatureVecs[counter,:] = featureVecMethod(each_test_tweet, model, num_features)\n",
    "    counter_test=counter_test+1\n",
    "#testing: print out the first 50 features of the first testing tweet\n",
    "print(test_FeatureVecs[0,0:50])\n",
    "print(counter_test)"
   ]
  },
  {
   "cell_type": "code",
   "execution_count": 23,
   "metadata": {
    "collapsed": true
   },
   "outputs": [],
   "source": [
    "# Fitting a random forest classifier to the training data\n",
    "from sklearn.ensemble import RandomForestClassifier\n",
    "forest = RandomForestClassifier(n_estimators = 100) \n",
    "forest = forest.fit(train_FeatureVecs, train_sentiment[\"score\"])"
   ]
  },
  {
   "cell_type": "code",
   "execution_count": 25,
   "metadata": {},
   "outputs": [
    {
     "name": "stdout",
     "output_type": "stream",
     "text": [
      "         date  score\n",
      "13102  3/1/18  1    \n",
      "13103  3/1/18  1    \n",
      "13104  3/1/18  1    \n",
      "13105  3/1/18  1    \n",
      "13106  3/1/18  1    \n"
     ]
    }
   ],
   "source": [
    "# Predicting the sentiment values for test data\n",
    "result = forest.predict(test_FeatureVecs)\n",
    "output = pd.DataFrame(data={\"date\":test_sentiment[\"date\"], \"score\":result})\n",
    "output.to_csv( \"/Users/Mandy/Desktop/output.csv\", index=False, quoting=3 )\n",
    "print(output.head())"
   ]
  },
  {
   "cell_type": "code",
   "execution_count": null,
   "metadata": {
    "collapsed": true
   },
   "outputs": [],
   "source": []
  }
 ],
 "metadata": {
  "kernelspec": {
   "display_name": "Python 3",
   "language": "python",
   "name": "python3"
  },
  "language_info": {
   "codemirror_mode": {
    "name": "ipython",
    "version": 3
   },
   "file_extension": ".py",
   "mimetype": "text/x-python",
   "name": "python",
   "nbconvert_exporter": "python",
   "pygments_lexer": "ipython3",
   "version": "3.6.3"
  }
 },
 "nbformat": 4,
 "nbformat_minor": 2
}
