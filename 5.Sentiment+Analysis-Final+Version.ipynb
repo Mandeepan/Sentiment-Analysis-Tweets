{
 "cells": [
  {
   "cell_type": "code",
   "execution_count": 1,
   "metadata": {
    "collapsed": true
   },
   "outputs": [],
   "source": [
    "import pandas as pd\n",
    "import numpy as np\n",
    "import datetime\n",
    "from nltk.corpus import stopwords\n",
    "from nltk.tokenize import word_tokenize\n",
    "import re\n",
    "from nltk import ngrams\n",
    "from nltk.probability import FreqDist\n",
    "from langdetect import detect\n",
    "import matplotlib.pyplot as plt; plt.rcdefaults()\n",
    "from gensim.models import word2vec\n",
    "from sklearn.ensemble import RandomForestClassifier\n",
    "from sklearn.preprocessing import Imputer"
   ]
  },
  {
   "cell_type": "code",
   "execution_count": 2,
   "metadata": {
    "collapsed": true
   },
   "outputs": [],
   "source": [
    "#jupyter notebook setting: to show the full texts in the output window\n",
    "pd.set_option('display.max_colwidth', -1)"
   ]
  },
  {
   "cell_type": "code",
   "execution_count": 3,
   "metadata": {},
   "outputs": [
    {
     "name": "stdout",
     "output_type": "stream",
     "text": [
      "       date  score  language  \\\n",
      "0  12/31/17 -1     NaN         \n",
      "1  12/31/17  0     NaN         \n",
      "2  12/31/17  1     NaN         \n",
      "3  12/31/17  0     NaN         \n",
      "4  12/31/17  0     NaN         \n",
      "\n",
      "                                                                                                                                                       text  \n",
      "0  Steve Harrigan reports on @POTUS ' #NewYearsEve - from the U.S. economy to tonight's party at Mar-a-Lago. #FoxNews2018 pic.twitter.com/wb75BhZ37F         \n",
      "1  Iran's protests are partly a reaction to a sputtering economy . But there's something bigger at play. http:// cnn.it/2En0qtL pic.twitter.com/lIKazEzNRf   \n",
      "2  Just a reminder Britney Spears singlehandedly saved the economy by releasing Work Bitch.                                                                  \n",
      "3  No                                                                                                                                                        \n",
      "4  Wondering what's going on with Ecuador's economy ? Wonder How Bitcoin can help? Read our informative article on our blog here: http:// ow.ly/53lb30hvQuu  \n"
     ]
    }
   ],
   "source": [
    "#input file:  tweet dataset\n",
    "rawTweetData=pd.read_csv('/Users/Mandy/Study/SpringBoard/Capstone 2/GoldTweetDataWorkBook.csv',encoding='latin1')\n",
    "print(rawTweetData.head())\n"
   ]
  },
  {
   "cell_type": "code",
   "execution_count": 4,
   "metadata": {
    "collapsed": true
   },
   "outputs": [],
   "source": [
    "#function to detect non-English tweets and delete those rows\n",
    "def findLanguage(row):\n",
    "    try:\n",
    "        return detect(row)\n",
    "    except:\n",
    "        return \"empty\""
   ]
  },
  {
   "cell_type": "code",
   "execution_count": 5,
   "metadata": {},
   "outputs": [
    {
     "name": "stdout",
     "output_type": "stream",
     "text": [
      "       date  score language  \\\n",
      "0  12/31/17 -1      en        \n",
      "1  12/31/17  0      en        \n",
      "2  12/31/17  1      en        \n",
      "4  12/31/17  0      en        \n",
      "5  12/31/17 -1      en        \n",
      "\n",
      "                                                                                                                                                                                                                                                             text  \n",
      "0  Steve Harrigan reports on @POTUS ' #NewYearsEve - from the U.S. economy to tonight's party at Mar-a-Lago. #FoxNews2018 pic.twitter.com/wb75BhZ37F                                                                                                               \n",
      "1  Iran's protests are partly a reaction to a sputtering economy . But there's something bigger at play. http:// cnn.it/2En0qtL pic.twitter.com/lIKazEzNRf                                                                                                         \n",
      "2  Just a reminder Britney Spears singlehandedly saved the economy by releasing Work Bitch.                                                                                                                                                                        \n",
      "4  Wondering what's going on with Ecuador's economy ? Wonder How Bitcoin can help? Read our informative article on our blog here: http:// ow.ly/53lb30hvQuu                                                                                                        \n",
      "5  But we still have to wait & see.In the streets however there were at least three different camps out in recent days: - Against govâs economy /corruption - Green camp (2009 election protest nostalgia) - Pro-regime change/monarchy camp (face of the riots  \n"
     ]
    }
   ],
   "source": [
    "#preprocessing 1/4 : delete non-English rows\n",
    "rawTweetData.language = rawTweetData.text.apply(findLanguage)\n",
    "rawTweetData=rawTweetData[rawTweetData.language=='en']\n",
    "rawTweetData=rawTweetData.loc[:,['date','score','language','text']]\n",
    "print(rawTweetData.head())"
   ]
  },
  {
   "cell_type": "code",
   "execution_count": 6,
   "metadata": {},
   "outputs": [
    {
     "name": "stdout",
     "output_type": "stream",
     "text": [
      "       date  score language  \\\n",
      "0  12/31/17 -1      en        \n",
      "1  12/31/17  0      en        \n",
      "2  12/31/17  1      en        \n",
      "4  12/31/17  0      en        \n",
      "5  12/31/17 -1      en        \n",
      "\n",
      "                                                                                                                                                                                                                                                             text  \\\n",
      "0  Steve Harrigan reports on @POTUS ' #NewYearsEve - from the U.S. economy to tonight's party at Mar-a-Lago. #FoxNews2018 pic.twitter.com/wb75BhZ37F                                                                                                                \n",
      "1  Iran's protests are partly a reaction to a sputtering economy . But there's something bigger at play. http:// cnn.it/2En0qtL pic.twitter.com/lIKazEzNRf                                                                                                          \n",
      "2  Just a reminder Britney Spears singlehandedly saved the economy by releasing Work Bitch.                                                                                                                                                                         \n",
      "4  Wondering what's going on with Ecuador's economy ? Wonder How Bitcoin can help? Read our informative article on our blog here: http:// ow.ly/53lb30hvQuu                                                                                                         \n",
      "5  But we still have to wait & see.In the streets however there were at least three different camps out in recent days: - Against govâs economy /corruption - Green camp (2009 election protest nostalgia) - Pro-regime change/monarchy camp (face of the riots   \n",
      "\n",
      "                                                                                                                                                                                                                                             Tweet  \n",
      "0  steve harrigan reports on user hashtag from the u s economy to tonight s party at mar a lago hashtag picture                                                                                                                                     \n",
      "1  iran s protests are partly a reaction to a sputtering economy but there s something bigger at play http cnn it 2en0qtl picture                                                                                                                   \n",
      "2  just a reminder britney spears singlehandedly saved the economy by releasing work bitch                                                                                                                                                          \n",
      "4  wondering what s going on with ecuador s economy wonder how bitcoin can help read our informative article on our blog here http ow ly 53lb30hvquu                                                                                                \n",
      "5  but we still have to wait see in the streets however there were at least three different camps out in recent days against gov s economy corruption green camp 2009 election protest nostalgia pro regime change monarchy camp face of the riots  \n"
     ]
    }
   ],
   "source": [
    "#preprocessing 2/4: replace special characters, such as URLs, usernames, hashtags, pictures\n",
    "#also remove all the special characters\n",
    "for row in rawTweetData.index:\n",
    "    eachTweet=rawTweetData.text[row]\n",
    "    eachTweet_url=re.sub(r\"https:// \\S+\",\"URL\",eachTweet)\n",
    "    eachTweet_pic=re.sub(r\"pic.\\S+\",\"PICTURE\",eachTweet_url)\n",
    "    eachTweet_user=re.sub(r\"@\\S+\",\"USER\",eachTweet_pic)\n",
    "    eachTweet_hashtag=re.sub(r\"#\\S+\",\"HASHTAG\",eachTweet_user)\n",
    "    eachTweet_spechar=re.sub(\"[^A-Za-z0-9]+\",\" \",eachTweet_hashtag).lower()\n",
    "    rawTweetData.set_value(row,'Tweet',eachTweet_spechar)\n",
    "print(rawTweetData.head())"
   ]
  },
  {
   "cell_type": "code",
   "execution_count": 7,
   "metadata": {},
   "outputs": [
    {
     "name": "stdout",
     "output_type": "stream",
     "text": [
      "0    [steve, harrigan, reports, on, user, hashtag, from, the, u, s, economy, to, tonight, s, party, at, mar, a, lago, hashtag, picture]                                                                                                                                                        \n",
      "1    [iran, s, protests, are, partly, a, reaction, to, a, sputtering, economy, but, there, s, something, bigger, at, play, http, cnn, it, 2en0qtl, picture]                                                                                                                                    \n",
      "2    [just, a, reminder, britney, spears, singlehandedly, saved, the, economy, by, releasing, work, bitch]                                                                                                                                                                                     \n",
      "4    [wondering, what, s, going, on, with, ecuador, s, economy, wonder, how, bitcoin, can, help, read, our, informative, article, on, our, blog, here, http, ow, ly, 53lb30hvquu]                                                                                                              \n",
      "5    [but, we, still, have, to, wait, see, in, the, streets, however, there, were, at, least, three, different, camps, out, in, recent, days, against, gov, s, economy, corruption, green, camp, 2009, election, protest, nostalgia, pro, regime, change, monarchy, camp, face, of, the, riots]\n",
      "dtype: object\n"
     ]
    }
   ],
   "source": [
    "#preprocessing 3/4: Split tweet text word by word (tokenize)\n",
    "tokenizedTweet = rawTweetData.apply(lambda row: word_tokenize(row['Tweet']), axis=1)\n",
    "print(tokenizedTweet.head())"
   ]
  },
  {
   "cell_type": "code",
   "execution_count": 8,
   "metadata": {},
   "outputs": [
    {
     "name": "stdout",
     "output_type": "stream",
     "text": [
      "0    [steve, harrigan, reports, user, hashtag, u, economy, tonight, party, mar, lago, hashtag, picture]                                                                                                             \n",
      "1    [iran, protests, partly, reaction, sputtering, economy, something, bigger, play, http, cnn, 2en0qtl, picture]                                                                                                  \n",
      "2    [reminder, britney, spears, singlehandedly, saved, economy, releasing, work, bitch]                                                                                                                            \n",
      "4    [wondering, going, ecuador, economy, wonder, bitcoin, help, read, informative, article, blog, http, ow, ly, 53lb30hvquu]                                                                                       \n",
      "5    [still, wait, see, streets, however, least, three, different, camps, recent, days, gov, economy, corruption, green, camp, 2009, election, protest, nostalgia, pro, regime, change, monarchy, camp, face, riots]\n",
      "dtype: object\n"
     ]
    }
   ],
   "source": [
    "#preprocessing 4/4: remove stopwords( words that don't have any positive/negative meanings)\n",
    "filteredTweet = tokenizedTweet.apply(lambda x: [word for word in x if word not in stopwords.words('english')])\n",
    "print(filteredTweet.head())"
   ]
  },
  {
   "cell_type": "code",
   "execution_count": 9,
   "metadata": {},
   "outputs": [
    {
     "name": "stdout",
     "output_type": "stream",
     "text": [
      "       date  score  \\\n",
      "0  12/31/17 -1       \n",
      "1  12/31/17  0       \n",
      "2  12/31/17  1       \n",
      "4  12/31/17  0       \n",
      "5  12/31/17 -1       \n",
      "\n",
      "                                                                                                                                                                                                             tweet  \n",
      "0  [steve, harrigan, reports, user, hashtag, u, economy, tonight, party, mar, lago, hashtag, picture]                                                                                                               \n",
      "1  [iran, protests, partly, reaction, sputtering, economy, something, bigger, play, http, cnn, 2en0qtl, picture]                                                                                                    \n",
      "2  [reminder, britney, spears, singlehandedly, saved, economy, releasing, work, bitch]                                                                                                                              \n",
      "4  [wondering, going, ecuador, economy, wonder, bitcoin, help, read, informative, article, blog, http, ow, ly, 53lb30hvquu]                                                                                         \n",
      "5  [still, wait, see, streets, however, least, three, different, camps, recent, days, gov, economy, corruption, green, camp, 2009, election, protest, nostalgia, pro, regime, change, monarchy, camp, face, riots]  \n"
     ]
    }
   ],
   "source": [
    "#Tweet data after all the pre-processing steps\n",
    "tweetData=rawTweetData.loc[:,['date','score']]\n",
    "tweetData=pd.concat([tweetData, filteredTweet], axis=1)\n",
    "tweetData.columns=['date','score','tweet']\n",
    "print(tweetData.head())"
   ]
  },
  {
   "cell_type": "code",
   "execution_count": 10,
   "metadata": {
    "collapsed": true
   },
   "outputs": [],
   "source": [
    "#function to combine every words from all the tweets into a word library\n",
    "def get_words_in_tweets(tweets):\n",
    "    all_words = []\n",
    "    for words in tweets:\n",
    "        all_words.extend(words)\n",
    "    return all_words\n",
    "\n",
    "#call the function\n",
    "word_list=get_words_in_tweets(filteredTweet)"
   ]
  },
  {
   "cell_type": "code",
   "execution_count": 11,
   "metadata": {},
   "outputs": [
    {
     "name": "stdout",
     "output_type": "stream",
     "text": [
      "    target_word  frequency\n",
      "6    economy     10415    \n",
      "4    hashtag     8417     \n",
      "3    user        5523     \n",
      "195  economic    5109     \n",
      "11   picture     3131     \n"
     ]
    }
   ],
   "source": [
    "# a distribution table of words and their corresponding frequencies\n",
    "word_features=FreqDist(word for word in word_list)\n",
    "word_freq=[word_features[w] for w in word_features]\n",
    "target_word=list(word_features.keys())\n",
    "word_freq=pd.DataFrame(word_freq)\n",
    "target_word=pd.DataFrame(target_word)\n",
    "word_freq_dist=pd.concat([target_word,word_freq],axis=1)\n",
    "word_freq_dist.columns=['target_word','frequency']\n",
    "word_freq_dist=word_freq_dist.sort_values('frequency',ascending=False)\n",
    "print(word_freq_dist.head())"
   ]
  },
  {
   "cell_type": "code",
   "execution_count": 12,
   "metadata": {},
   "outputs": [
    {
     "name": "stdout",
     "output_type": "stream",
     "text": [
      "    target_word  frequency\n",
      "6    economy     10415    \n",
      "195  economic    5109     \n",
      "83   trump       2547     \n",
      "126  us          1352     \n",
      "300  people      1151     \n"
     ]
    }
   ],
   "source": [
    "#delete rows with the replacement words: URL, PICTURE, USER, HASHTAG\n",
    "word_freq_dist = word_freq_dist[word_freq_dist.target_word != 'url']\n",
    "word_freq_dist = word_freq_dist[word_freq_dist.target_word != 'http']\n",
    "word_freq_dist = word_freq_dist[word_freq_dist.target_word != 'picture']\n",
    "word_freq_dist = word_freq_dist[word_freq_dist.target_word != 'user']\n",
    "word_freq_dist = word_freq_dist[word_freq_dist.target_word != 'hashtag']\n",
    "print(word_freq_dist.head())"
   ]
  },
  {
   "cell_type": "code",
   "execution_count": 13,
   "metadata": {},
   "outputs": [
    {
     "data": {
      "image/png": "[encoded data removed]",
      "text/plain": [
       "<matplotlib.figure.Figure at 0x1044d2908>"
      ]
     },
     "metadata": {},
     "output_type": "display_data"
    }
   ],
   "source": [
    "# draw a bar chart to show the frequency of the 100 most common words\n",
    "x_word = word_freq_dist.iloc[0:50,0]\n",
    "y_pos = np.arange(len(x_word))\n",
    "y_freq = word_freq_dist.iloc[0:50,1]\n",
    "\n",
    "plt.bar(y_pos, y_freq, align='center', alpha=0.5)\n",
    "plt.xticks(y_pos, x_word)\n",
    "plt.ylabel('Frequency')\n",
    "plt.title('100 Words Occurred Most Frequently')\n",
    "plt.xticks(rotation=90)\n",
    " \n",
    "plt.show()"
   ]
  },
  {
   "cell_type": "code",
   "execution_count": 14,
   "metadata": {
    "collapsed": true
   },
   "outputs": [],
   "source": [
    "#split Tweet data into trainning set and text set \n",
    "#total tweet data is 20478, 60% will be used to train the model.\n",
    "train_sentiment=tweetData.iloc[0:12285,:]\n",
    "test_sentiment=tweetData.iloc[12285:,:]"
   ]
  },
  {
   "cell_type": "code",
   "execution_count": 15,
   "metadata": {
    "collapsed": true
   },
   "outputs": [],
   "source": [
    "# Creating the model and setting values for the various parameters\n",
    "num_features = 300  # Word vector dimensionality\n",
    "min_word_count = 40 # Minimum word count\n",
    "num_workers = 5     # Number of parallel threads\n",
    "context = 10       # Context window size\n",
    "downsampling = 1e-3 # (0.001) Downsample setting for frequent words\n",
    "\n",
    "# Initializing the train model\n",
    "model = word2vec.Word2Vec(train_sentiment.tweet,\\\n",
    "                          workers=num_workers,\\\n",
    "                          size=num_features,\\\n",
    "                          min_count=min_word_count,\\\n",
    "                          window=context,\n",
    "                          sample=downsampling)\n",
    "\n",
    "# To make the model memory efficient\n",
    "model.init_sims(replace=True)\n",
    "\n",
    "# Saving the model for later use. Can be loaded using Word2Vec.load()\n",
    "model_name = \"300features_40minwords_10context\"\n",
    "model.save(model_name)"
   ]
  },
  {
   "cell_type": "code",
   "execution_count": 16,
   "metadata": {},
   "outputs": [
    {
     "name": "stderr",
     "output_type": "stream",
     "text": [
      "/Users/Mandy/anaconda3/lib/python3.6/site-packages/ipykernel_launcher.py:2: DeprecationWarning: Call to deprecated `syn0` (Attribute will be removed in 4.0.0, use self.wv.vectors instead).\n",
      "  \n"
     ]
    },
    {
     "data": {
      "text/plain": [
       "(723, 300)"
      ]
     },
     "execution_count": 16,
     "metadata": {},
     "output_type": "execute_result"
    }
   ],
   "source": [
    "# This will give the total number of words in the vocabolary created from this dataset\n",
    "model.wv.syn0.shape"
   ]
  },
  {
   "cell_type": "code",
   "execution_count": 17,
   "metadata": {},
   "outputs": [
    {
     "data": {
      "text/plain": [
       "[('opportunities', 0.9895972609519958),\n",
       " ('opportunity', 0.9894675016403198),\n",
       " ('future', 0.9880902767181396),\n",
       " ('secretary', 0.9872471690177917),\n",
       " ('together', 0.9866265654563904),\n",
       " ('climate', 0.986266553401947),\n",
       " ('change', 0.9855443239212036),\n",
       " ('vision', 0.9855387806892395),\n",
       " ('political', 0.9854916334152222),\n",
       " ('freedom', 0.9852175116539001)]"
      ]
     },
     "execution_count": 17,
     "metadata": {},
     "output_type": "execute_result"
    }
   ],
   "source": [
    "# This will print the most similar words present in the model\n",
    "model.wv.most_similar(\"economic\")"
   ]
  },
  {
   "cell_type": "code",
   "execution_count": 18,
   "metadata": {
    "collapsed": true
   },
   "outputs": [],
   "source": [
    "# Function to average all word vectors in a paragraph\n",
    "def featureVecMethod(words, model, num_features):\n",
    "    # Pre-initialising empty numpy array for speed\n",
    "    featureVec = np.zeros(num_features,dtype=\"float32\")\n",
    "    nwords = 0\n",
    "    \n",
    "    #Converting Index2Word which is a list to a set for better speed in the execution.\n",
    "    index2word_set = set(model.wv.index2word)\n",
    "    \n",
    "    for word in  words:\n",
    "        if word in index2word_set:\n",
    "            nwords = nwords + 1\n",
    "            featureVec = np.add(featureVec,model[word])\n",
    "    \n",
    "    # Dividing the result by number of words to get average\n",
    "    featureVec = np.divide(featureVec, nwords)\n",
    "    return featureVec"
   ]
  },
  {
   "cell_type": "code",
   "execution_count": 19,
   "metadata": {},
   "outputs": [
    {
     "name": "stderr",
     "output_type": "stream",
     "text": [
      "/Users/Mandy/anaconda3/lib/python3.6/site-packages/ipykernel_launcher.py:13: DeprecationWarning: Call to deprecated `__getitem__` (Method will be removed in 4.0.0, use self.wv.__getitem__() instead).\n",
      "  del sys.path[0]\n",
      "/Users/Mandy/anaconda3/lib/python3.6/site-packages/ipykernel_launcher.py:16: RuntimeWarning: invalid value encountered in true_divide\n",
      "  app.launch_new_instance()\n"
     ]
    },
    {
     "name": "stdout",
     "output_type": "stream",
     "text": [
      "[ 0.00945817  0.08000964  0.09881575 -0.00353561  0.00796146 -0.09795941\n",
      " -0.00853431 -0.02616312 -0.03975807  0.0265001   0.02252642 -0.0222103\n",
      "  0.00180237 -0.030005   -0.02482033  0.03580517  0.00781598  0.00067173\n",
      "  0.09601879 -0.01045964  0.00692157  0.01392593 -0.00803152 -0.00188458\n",
      "  0.04165957 -0.01004323  0.01239936  0.00241031  0.01213147 -0.05579005\n",
      "  0.04038535  0.00646954  0.00060368  0.03158095 -0.01669513  0.04469122\n",
      " -0.06447771  0.04476986 -0.03072003 -0.08445393  0.01256927  0.00144161\n",
      "  0.08049873 -0.02718591  0.01837436  0.10465257 -0.11394984 -0.00223909\n",
      " -0.00793484 -0.00205031]\n",
      "12285\n"
     ]
    }
   ],
   "source": [
    "#Vectorize the training set\n",
    "train_FeatureVecs = np.zeros((len(train_sentiment),num_features),dtype=\"float32\")\n",
    "counter=0\n",
    "for tweet in train_sentiment.iterrows():\n",
    "    train_FeatureVecs[counter,:] = featureVecMethod(tweet[1][2], model, num_features)\n",
    "    counter=counter+1\n",
    "#testing: print out the first 50 features of the first training tweet\n",
    "print(train_FeatureVecs[0,0:50])\n",
    "print(counter)"
   ]
  },
  {
   "cell_type": "code",
   "execution_count": 20,
   "metadata": {},
   "outputs": [
    {
     "name": "stderr",
     "output_type": "stream",
     "text": [
      "/Users/Mandy/anaconda3/lib/python3.6/site-packages/ipykernel_launcher.py:13: DeprecationWarning: Call to deprecated `__getitem__` (Method will be removed in 4.0.0, use self.wv.__getitem__() instead).\n",
      "  del sys.path[0]\n",
      "/Users/Mandy/anaconda3/lib/python3.6/site-packages/ipykernel_launcher.py:16: RuntimeWarning: invalid value encountered in true_divide\n",
      "  app.launch_new_instance()\n"
     ]
    },
    {
     "name": "stdout",
     "output_type": "stream",
     "text": [
      "[ 0.0230606   0.08498941  0.06699137  0.05724878  0.05400904 -0.09491497\n",
      " -0.00136524 -0.01396808 -0.02926741  0.06622666 -0.00486923 -0.02419093\n",
      " -0.06363616 -0.0852375  -0.05699753 -0.00028374 -0.03654128  0.00995393\n",
      "  0.07886991  0.08998648  0.05793155  0.03556081 -0.02159929  0.01201964\n",
      "  0.01772364 -0.00923698 -0.00088119 -0.00313985 -0.02130071 -0.03912456\n",
      "  0.03010812  0.02848328 -0.01427313  0.02219216  0.0326675   0.00945791\n",
      " -0.05535947 -0.03896655 -0.05856211 -0.082432    0.00631316 -0.04164335\n",
      "  0.07142559 -0.03192982  0.06476849  0.07388384 -0.13114525 -0.0072624\n",
      " -0.00754034 -0.00106385]\n",
      "8202\n"
     ]
    }
   ],
   "source": [
    "#Vectorize the test set\n",
    "test_FeatureVecs=np.zeros((len(test_sentiment),num_features),dtype=\"float32\")\n",
    "counter_test=0\n",
    "for each_test_tweet in test_sentiment.iterrows():\n",
    "    test_FeatureVecs[counter_test,:] = featureVecMethod(each_test_tweet[1][2], model, num_features)\n",
    "    counter_test=counter_test+1\n",
    "#testing: print out the first 50 features of the first testing tweet\n",
    "print(test_FeatureVecs[0,0:50])\n",
    "print(counter_test)"
   ]
  },
  {
   "cell_type": "code",
   "execution_count": 21,
   "metadata": {},
   "outputs": [
    {
     "name": "stdout",
     "output_type": "stream",
     "text": [
      "False\n",
      "False\n"
     ]
    }
   ],
   "source": [
    "#test if the vectorized feature sets with NaN values and turn them to zero\n",
    "if np.any(np.isnan(train_FeatureVecs))==True:\n",
    "    where_are_NaNs = np.isnan(train_FeatureVecs)\n",
    "    train_FeatureVecs[where_are_NaNs] = 0\n",
    "    print(np.any(np.isnan(train_FeatureVecs)))\n",
    "else:\n",
    "    print('No NaN values in train_FeatureVecs')\n",
    "#for test_set\n",
    "if np.any(np.isnan(test_FeatureVecs))==True:\n",
    "    where_are_NaNs = np.isnan(test_FeatureVecs)\n",
    "    test_FeatureVecs[where_are_NaNs] = 0\n",
    "    print(np.any(np.isnan(test_FeatureVecs)))\n",
    "else:\n",
    "    print('No NaN values in test_FeatureVecs')"
   ]
  },
  {
   "cell_type": "code",
   "execution_count": 22,
   "metadata": {},
   "outputs": [
    {
     "name": "stdout",
     "output_type": "stream",
     "text": [
      "No infinite values in train_FeatureVecs\n",
      "No infinite values in test_FeatureVecs\n"
     ]
    }
   ],
   "source": [
    "#test if the vectorized feature sets with infinite numbers and replace them with zeros\n",
    "if np.all(np.isfinite(train_FeatureVecs))==False:\n",
    "    where_are_infinites=np.isinf(train_FeatureVecs)\n",
    "    train_FeatureVecs[where_are_infinites] = 0\n",
    "    print(np.all(np.isfinite(train_FeatureVecs)))\n",
    "else:\n",
    "    print('No infinite values in train_FeatureVecs')\n",
    "#for test_set\n",
    "if np.all(np.isfinite(test_FeatureVecs))==False:\n",
    "    where_are_infinites=np.isinf(test_FeatureVecs)\n",
    "    test_FeatureVecs[where_are_infinites] = 0\n",
    "    print(np.all(np.isfinite(test_FeatureVecs)))\n",
    "else:\n",
    "    print('No infinite values in test_FeatureVecs')"
   ]
  },
  {
   "cell_type": "code",
   "execution_count": 23,
   "metadata": {
    "collapsed": true
   },
   "outputs": [],
   "source": [
    "#train_FeatureVecs = Imputer().fit_transform(train_FeatureVecs)\n",
    "#test_FeatureVecs = Imputer().fit_transform(test_FeatureVecs)"
   ]
  },
  {
   "cell_type": "code",
   "execution_count": 24,
   "metadata": {
    "collapsed": true
   },
   "outputs": [],
   "source": [
    "# Fitting a random forest classifier to the training data\n",
    "RF_classifier = RandomForestClassifier(n_estimators = 300) \n",
    "RF_classifier = RF_classifier.fit(train_FeatureVecs, train_sentiment[\"score\"])"
   ]
  },
  {
   "cell_type": "code",
   "execution_count": 25,
   "metadata": {},
   "outputs": [
    {
     "name": "stdout",
     "output_type": "stream",
     "text": [
      "         date  score\n",
      "13096  3/1/18  0    \n",
      "13098  3/1/18 -1    \n",
      "13099  3/1/18  1    \n",
      "13100  3/1/18 -1    \n",
      "13101  3/1/18  0    \n"
     ]
    }
   ],
   "source": [
    "# Predicting the sentiment values for test data\n",
    "result = RF_classifier.predict(test_FeatureVecs)\n",
    "output = pd.DataFrame(data={\"date\":test_sentiment[\"date\"], \"score\":result})\n",
    "output.to_csv( \"/Users/Mandy/Desktop/output.csv\", index=False, quoting=3 )\n",
    "print(output.head())"
   ]
  },
  {
   "cell_type": "code",
   "execution_count": 30,
   "metadata": {},
   "outputs": [
    {
     "name": "stdout",
     "output_type": "stream",
     "text": [
      "<class 'numpy.ndarray'>\n",
      "0.33162643257742014\n",
      "[[0.17666667 0.57166667 0.25166667]\n",
      " [0.52713414 0.39280124 0.08006462]\n",
      " [0.24728291 0.30654762 0.44616947]\n",
      " ...\n",
      " [0.50272222 0.18444444 0.31283333]\n",
      " [0.30691534 0.23754762 0.45553704]\n",
      " [0.29333333 0.39444444 0.31222222]]\n"
     ]
    }
   ],
   "source": [
    "RF_accuracy=RF_classifier.score(test_FeatureVecs,test_sentiment['score'])\n",
    "print(RF_accuracy)\n",
    "print(RF_classifier.predict_proba(test_FeatureVecs))"
   ]
  },
  {
   "cell_type": "code",
   "execution_count": 58,
   "metadata": {
    "collapsed": true
   },
   "outputs": [],
   "source": [
    "#function to calculate the expected sentiment score for each tweet(row)\n",
    "def expected_score(featureVec):\n",
    "    prob=RF_classifier.predict_proba(featureVec.reshape(1, -1))\n",
    "    #turn the 2D array into 1D\n",
    "    prob=prob[0,:]\n",
    "    product=prob*RF_classifier.classes_\n",
    "    expected_score=sum(product)\n",
    "    return expected_score"
   ]
  },
  {
   "cell_type": "code",
   "execution_count": 98,
   "metadata": {},
   "outputs": [
    {
     "name": "stdout",
     "output_type": "stream",
     "text": [
      "here is the score\n",
      "-0.06777777777777777\n"
     ]
    }
   ],
   "source": [
    "###testing for one row\n",
    "featureVec=test_FeatureVecs[3,:]\n",
    "score_t=expected_score([featureVec])\n",
    "print(\"here is the score\")\n",
    "print(score_t)\n"
   ]
  },
  {
   "cell_type": "code",
   "execution_count": 106,
   "metadata": {},
   "outputs": [
    {
     "name": "stdout",
     "output_type": "stream",
     "text": [
      "0    0.075000\n",
      "1   -0.447070\n",
      "2    0.198887\n",
      "3   -0.067778\n",
      "4    0.011296\n",
      "dtype: float64\n"
     ]
    }
   ],
   "source": [
    "#for each tweet's vectorized features, the model predict a score. Calculare the score mean\n",
    "testing=pd.DataFrame(test_FeatureVecs)\n",
    "score_class=RF_classifier.classes_\n",
    "score_list=testing.apply(lambda eachFeatureRow:expected_score([eachFeatureRow]),axis=1)\n",
    "print(score_list.head())"
   ]
  },
  {
   "cell_type": "code",
   "execution_count": 111,
   "metadata": {},
   "outputs": [
    {
     "name": "stdout",
     "output_type": "stream",
     "text": [
      "The Score Mean is 0.013177\n",
      "The Score Median is 0.010171\n"
     ]
    }
   ],
   "source": [
    "print(\"The Score Mean is %f\" %(np.mean(score_list)))\n",
    "print(\"The Score Median is %f\" %(np.median(score_list)))"
   ]
  },
  {
   "cell_type": "code",
   "execution_count": null,
   "metadata": {
    "collapsed": true
   },
   "outputs": [],
   "source": []
  }
 ],
 "metadata": {
  "kernelspec": {
   "display_name": "Python 3",
   "language": "python",
   "name": "python3"
  },
  "language_info": {
   "codemirror_mode": {
    "name": "ipython",
    "version": 3
   },
   "file_extension": ".py",
   "mimetype": "text/x-python",
   "name": "python",
   "nbconvert_exporter": "python",
   "pygments_lexer": "ipython3",
   "version": "3.6.3"
  }
 },
 "nbformat": 4,
 "nbformat_minor": 2
}
